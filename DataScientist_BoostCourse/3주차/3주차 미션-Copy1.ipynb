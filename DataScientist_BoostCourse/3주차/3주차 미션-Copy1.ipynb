{
 "cells": [
  {
   "cell_type": "markdown",
   "id": "830ad3e1",
   "metadata": {},
   "source": [
    "미션에 도전하기 전에 먼저!!"
   ]
  },
  {
   "cell_type": "code",
   "execution_count": 1,
   "id": "e440e5ab",
   "metadata": {
    "ExecuteTime": {
     "end_time": "2022-11-14T06:25:04.382220Z",
     "start_time": "2022-11-14T06:24:52.934578Z"
    }
   },
   "outputs": [],
   "source": [
    "import pandas as pd\n",
    "import numpy as np\n",
    "import seaborn as sns\n",
    "\n",
    "# 한글폰트 사용을 위해 설치\n",
    "# 아래 모듈을 설치하고 불러오면 별도의 한글폰트 설정이 필요 없습니다.\n",
    "# colab 에서도 아래 설치 문구의 주석을 제거하고 설치하고 import 해주기만 하면 한글폰트가 잘 나옵니다.\n",
    "# !pip install koreanize-matplotlib\n",
    "\n",
    "import koreanize_matplotlib\n",
    "\n",
    "# df = pd.read_csv(\"boostcourse-ds-510/data/NHIS_OPEN_GJ_2017.CSV.zip\", encoding=\"cp949\")\n",
    "df = pd.read_csv(\"https://raw.githubusercontent.com/corazzon/boostcourse-ds-510/master/data/NHIS_OPEN_GJ_2017.CSV.zip\",\n",
    "                 encoding=\"cp949\")"
   ]
  },
  {
   "cell_type": "markdown",
   "id": "856fe7e7",
   "metadata": {},
   "source": [
    "# 연령대별 허리둘레에 대한 기술통계를 구하려고 합니다. 다음 제공되는 딕셔너리를 통해 연령대코드(5세단위)를 \"연령대\"로 만들고 아래와 같은 기술통계값을 구해주세요!"
   ]
  },
  {
   "cell_type": "code",
   "execution_count": 2,
   "id": "9141b2b8",
   "metadata": {
    "ExecuteTime": {
     "end_time": "2022-11-14T06:25:04.397148Z",
     "start_time": "2022-11-14T06:25:04.386276Z"
    }
   },
   "outputs": [],
   "source": [
    "age_code = {1: '0~4세',\n",
    " 2: '5~9세',\n",
    " 3: '10~14세',\n",
    " 4: '15~19세',\n",
    " 5: '20~24세',\n",
    " 6: '25~29세',\n",
    " 7: '30~34세',\n",
    " 8: '35~39세',\n",
    " 9: '40~44세',\n",
    " 10: '45~49세',\n",
    " 11: '50~54세',\n",
    " 12: '55~59세',\n",
    " 13: '60~64세',\n",
    " 14: '65~69세',\n",
    " 15: '70~74세',\n",
    " 16: '75~79세',\n",
    " 17: '80~84세',\n",
    " 18: '85세+'}"
   ]
  },
  {
   "cell_type": "code",
   "execution_count": 3,
   "id": "90581d15",
   "metadata": {
    "ExecuteTime": {
     "end_time": "2022-11-14T06:25:04.789953Z",
     "start_time": "2022-11-14T06:25:04.401168Z"
    },
    "scrolled": false
   },
   "outputs": [
    {
     "data": {
      "text/html": [
       "<div>\n",
       "<style scoped>\n",
       "    .dataframe tbody tr th:only-of-type {\n",
       "        vertical-align: middle;\n",
       "    }\n",
       "\n",
       "    .dataframe tbody tr th {\n",
       "        vertical-align: top;\n",
       "    }\n",
       "\n",
       "    .dataframe thead th {\n",
       "        text-align: right;\n",
       "    }\n",
       "</style>\n",
       "<table border=\"1\" class=\"dataframe\">\n",
       "  <thead>\n",
       "    <tr style=\"text-align: right;\">\n",
       "      <th></th>\n",
       "      <th>count</th>\n",
       "      <th>mean</th>\n",
       "      <th>std</th>\n",
       "      <th>min</th>\n",
       "      <th>25%</th>\n",
       "      <th>50%</th>\n",
       "      <th>75%</th>\n",
       "      <th>max</th>\n",
       "    </tr>\n",
       "    <tr>\n",
       "      <th>연령대</th>\n",
       "      <th></th>\n",
       "      <th></th>\n",
       "      <th></th>\n",
       "      <th></th>\n",
       "      <th></th>\n",
       "      <th></th>\n",
       "      <th></th>\n",
       "      <th></th>\n",
       "    </tr>\n",
       "  </thead>\n",
       "  <tbody>\n",
       "    <tr>\n",
       "      <th>20~24세</th>\n",
       "      <td>23244.0</td>\n",
       "      <td>75.152220</td>\n",
       "      <td>12.251781</td>\n",
       "      <td>47.5</td>\n",
       "      <td>67.5</td>\n",
       "      <td>73.4</td>\n",
       "      <td>81.0</td>\n",
       "      <td>999.0</td>\n",
       "    </tr>\n",
       "    <tr>\n",
       "      <th>25~29세</th>\n",
       "      <td>64898.0</td>\n",
       "      <td>77.704783</td>\n",
       "      <td>16.735734</td>\n",
       "      <td>48.0</td>\n",
       "      <td>69.0</td>\n",
       "      <td>76.5</td>\n",
       "      <td>84.2</td>\n",
       "      <td>999.0</td>\n",
       "    </tr>\n",
       "    <tr>\n",
       "      <th>30~34세</th>\n",
       "      <td>77517.0</td>\n",
       "      <td>81.089268</td>\n",
       "      <td>22.988111</td>\n",
       "      <td>49.0</td>\n",
       "      <td>72.0</td>\n",
       "      <td>80.1</td>\n",
       "      <td>88.0</td>\n",
       "      <td>999.0</td>\n",
       "    </tr>\n",
       "    <tr>\n",
       "      <th>35~39세</th>\n",
       "      <td>84621.0</td>\n",
       "      <td>82.094012</td>\n",
       "      <td>14.522095</td>\n",
       "      <td>9.2</td>\n",
       "      <td>75.0</td>\n",
       "      <td>82.0</td>\n",
       "      <td>89.0</td>\n",
       "      <td>999.0</td>\n",
       "    </tr>\n",
       "    <tr>\n",
       "      <th>40~44세</th>\n",
       "      <td>130912.0</td>\n",
       "      <td>80.488308</td>\n",
       "      <td>10.803098</td>\n",
       "      <td>42.1</td>\n",
       "      <td>73.0</td>\n",
       "      <td>80.0</td>\n",
       "      <td>87.0</td>\n",
       "      <td>999.0</td>\n",
       "    </tr>\n",
       "    <tr>\n",
       "      <th>45~49세</th>\n",
       "      <td>118357.0</td>\n",
       "      <td>80.822449</td>\n",
       "      <td>9.521622</td>\n",
       "      <td>40.0</td>\n",
       "      <td>74.0</td>\n",
       "      <td>81.0</td>\n",
       "      <td>87.0</td>\n",
       "      <td>137.0</td>\n",
       "    </tr>\n",
       "    <tr>\n",
       "      <th>50~54세</th>\n",
       "      <td>129833.0</td>\n",
       "      <td>81.062754</td>\n",
       "      <td>9.095438</td>\n",
       "      <td>6.5</td>\n",
       "      <td>75.0</td>\n",
       "      <td>81.0</td>\n",
       "      <td>87.0</td>\n",
       "      <td>142.0</td>\n",
       "    </tr>\n",
       "    <tr>\n",
       "      <th>55~59세</th>\n",
       "      <td>112175.0</td>\n",
       "      <td>81.799905</td>\n",
       "      <td>8.730398</td>\n",
       "      <td>32.0</td>\n",
       "      <td>76.0</td>\n",
       "      <td>82.0</td>\n",
       "      <td>87.5</td>\n",
       "      <td>139.0</td>\n",
       "    </tr>\n",
       "    <tr>\n",
       "      <th>60~64세</th>\n",
       "      <td>106491.0</td>\n",
       "      <td>82.722769</td>\n",
       "      <td>8.596176</td>\n",
       "      <td>0.0</td>\n",
       "      <td>77.0</td>\n",
       "      <td>83.0</td>\n",
       "      <td>88.0</td>\n",
       "      <td>137.0</td>\n",
       "    </tr>\n",
       "    <tr>\n",
       "      <th>65~69세</th>\n",
       "      <td>53624.0</td>\n",
       "      <td>83.588500</td>\n",
       "      <td>8.443542</td>\n",
       "      <td>50.0</td>\n",
       "      <td>78.0</td>\n",
       "      <td>83.5</td>\n",
       "      <td>89.0</td>\n",
       "      <td>129.0</td>\n",
       "    </tr>\n",
       "    <tr>\n",
       "      <th>70~74세</th>\n",
       "      <td>51586.0</td>\n",
       "      <td>84.063372</td>\n",
       "      <td>8.539639</td>\n",
       "      <td>51.0</td>\n",
       "      <td>78.0</td>\n",
       "      <td>84.0</td>\n",
       "      <td>90.0</td>\n",
       "      <td>129.8</td>\n",
       "    </tr>\n",
       "    <tr>\n",
       "      <th>75~79세</th>\n",
       "      <td>25972.0</td>\n",
       "      <td>84.200127</td>\n",
       "      <td>8.772306</td>\n",
       "      <td>50.0</td>\n",
       "      <td>78.0</td>\n",
       "      <td>84.0</td>\n",
       "      <td>90.0</td>\n",
       "      <td>122.0</td>\n",
       "    </tr>\n",
       "    <tr>\n",
       "      <th>80~84세</th>\n",
       "      <td>16205.0</td>\n",
       "      <td>83.751435</td>\n",
       "      <td>9.041091</td>\n",
       "      <td>38.0</td>\n",
       "      <td>78.0</td>\n",
       "      <td>84.0</td>\n",
       "      <td>90.0</td>\n",
       "      <td>120.0</td>\n",
       "    </tr>\n",
       "    <tr>\n",
       "      <th>85세+</th>\n",
       "      <td>4125.0</td>\n",
       "      <td>81.736703</td>\n",
       "      <td>17.325969</td>\n",
       "      <td>34.0</td>\n",
       "      <td>75.0</td>\n",
       "      <td>81.5</td>\n",
       "      <td>88.0</td>\n",
       "      <td>999.0</td>\n",
       "    </tr>\n",
       "  </tbody>\n",
       "</table>\n",
       "</div>"
      ],
      "text/plain": [
       "           count       mean        std   min   25%   50%   75%    max\n",
       "연령대                                                                  \n",
       "20~24세   23244.0  75.152220  12.251781  47.5  67.5  73.4  81.0  999.0\n",
       "25~29세   64898.0  77.704783  16.735734  48.0  69.0  76.5  84.2  999.0\n",
       "30~34세   77517.0  81.089268  22.988111  49.0  72.0  80.1  88.0  999.0\n",
       "35~39세   84621.0  82.094012  14.522095   9.2  75.0  82.0  89.0  999.0\n",
       "40~44세  130912.0  80.488308  10.803098  42.1  73.0  80.0  87.0  999.0\n",
       "45~49세  118357.0  80.822449   9.521622  40.0  74.0  81.0  87.0  137.0\n",
       "50~54세  129833.0  81.062754   9.095438   6.5  75.0  81.0  87.0  142.0\n",
       "55~59세  112175.0  81.799905   8.730398  32.0  76.0  82.0  87.5  139.0\n",
       "60~64세  106491.0  82.722769   8.596176   0.0  77.0  83.0  88.0  137.0\n",
       "65~69세   53624.0  83.588500   8.443542  50.0  78.0  83.5  89.0  129.0\n",
       "70~74세   51586.0  84.063372   8.539639  51.0  78.0  84.0  90.0  129.8\n",
       "75~79세   25972.0  84.200127   8.772306  50.0  78.0  84.0  90.0  122.0\n",
       "80~84세   16205.0  83.751435   9.041091  38.0  78.0  84.0  90.0  120.0\n",
       "85세+      4125.0  81.736703  17.325969  34.0  75.0  81.5  88.0  999.0"
      ]
     },
     "execution_count": 3,
     "metadata": {},
     "output_type": "execute_result"
    }
   ],
   "source": [
    "df_copy = df.copy()\n",
    "\n",
    "# 연령대코드(5세단위) -> 연령대\n",
    "df_copy.rename(columns = {'연령대코드(5세단위)':'연령대'}, inplace=True)\n",
    "\n",
    "# 딕셔너리 value값으로 바꾸기\n",
    "df_age = df_copy['연령대'].apply(lambda x : age_code[x])\n",
    "\n",
    "# 결과\n",
    "df_copy.groupby([df_age])[\"허리둘레\"].describe()"
   ]
  },
  {
   "cell_type": "markdown",
   "id": "2ff2fb80",
   "metadata": {},
   "source": [
    "# \"음주여부\", \"흡연상태\", \"연령대코드(5세단위)\", \"성별코드\"에 대한 상관계수를 구하고 시각화 해주세요."
   ]
  },
  {
   "cell_type": "code",
   "execution_count": 4,
   "id": "8c4c1527",
   "metadata": {
    "ExecuteTime": {
     "end_time": "2022-11-14T06:25:04.805868Z",
     "start_time": "2022-11-14T06:25:04.793943Z"
    }
   },
   "outputs": [
    {
     "data": {
      "text/plain": [
       "['음주여부', '흡연상태', '연령대코드(5세단위)', '성별코드']"
      ]
     },
     "execution_count": 4,
     "metadata": {},
     "output_type": "execute_result"
    }
   ],
   "source": [
    "# 상관계수에 사용할 컬럼을 변수에 담기\n",
    "columns = [\n",
    "     '음주여부','흡연상태', '연령대코드(5세단위)', '성별코드'\n",
    "]\n",
    "columns"
   ]
  },
  {
   "cell_type": "code",
   "execution_count": 5,
   "id": "7bbe0a3d",
   "metadata": {
    "ExecuteTime": {
     "end_time": "2022-11-14T06:25:04.932530Z",
     "start_time": "2022-11-14T06:25:04.807865Z"
    }
   },
   "outputs": [
    {
     "data": {
      "text/html": [
       "<div>\n",
       "<style scoped>\n",
       "    .dataframe tbody tr th:only-of-type {\n",
       "        vertical-align: middle;\n",
       "    }\n",
       "\n",
       "    .dataframe tbody tr th {\n",
       "        vertical-align: top;\n",
       "    }\n",
       "\n",
       "    .dataframe thead th {\n",
       "        text-align: right;\n",
       "    }\n",
       "</style>\n",
       "<table border=\"1\" class=\"dataframe\">\n",
       "  <thead>\n",
       "    <tr style=\"text-align: right;\">\n",
       "      <th></th>\n",
       "      <th>음주여부</th>\n",
       "      <th>흡연상태</th>\n",
       "      <th>연령대코드(5세단위)</th>\n",
       "      <th>성별코드</th>\n",
       "    </tr>\n",
       "  </thead>\n",
       "  <tbody>\n",
       "    <tr>\n",
       "      <th>음주여부</th>\n",
       "      <td>1.000000</td>\n",
       "      <td>0.352014</td>\n",
       "      <td>-0.283296</td>\n",
       "      <td>-0.368630</td>\n",
       "    </tr>\n",
       "    <tr>\n",
       "      <th>흡연상태</th>\n",
       "      <td>0.352014</td>\n",
       "      <td>1.000000</td>\n",
       "      <td>-0.125714</td>\n",
       "      <td>-0.588491</td>\n",
       "    </tr>\n",
       "    <tr>\n",
       "      <th>연령대코드(5세단위)</th>\n",
       "      <td>-0.283296</td>\n",
       "      <td>-0.125714</td>\n",
       "      <td>1.000000</td>\n",
       "      <td>0.080093</td>\n",
       "    </tr>\n",
       "    <tr>\n",
       "      <th>성별코드</th>\n",
       "      <td>-0.368630</td>\n",
       "      <td>-0.588491</td>\n",
       "      <td>0.080093</td>\n",
       "      <td>1.000000</td>\n",
       "    </tr>\n",
       "  </tbody>\n",
       "</table>\n",
       "</div>"
      ],
      "text/plain": [
       "                 음주여부      흡연상태  연령대코드(5세단위)      성별코드\n",
       "음주여부         1.000000  0.352014    -0.283296 -0.368630\n",
       "흡연상태         0.352014  1.000000    -0.125714 -0.588491\n",
       "연령대코드(5세단위) -0.283296 -0.125714     1.000000  0.080093\n",
       "성별코드        -0.368630 -0.588491     0.080093  1.000000"
      ]
     },
     "execution_count": 5,
     "metadata": {},
     "output_type": "execute_result"
    }
   ],
   "source": [
    "df_corr = df[columns].corr()\n",
    "df_corr.head()"
   ]
  },
  {
   "cell_type": "code",
   "execution_count": 6,
   "id": "be752d32",
   "metadata": {
    "ExecuteTime": {
     "end_time": "2022-11-14T06:25:05.351811Z",
     "start_time": "2022-11-14T06:25:04.935224Z"
    }
   },
   "outputs": [
    {
     "name": "stderr",
     "output_type": "stream",
     "text": [
      "C:\\Users\\icebu\\AppData\\Local\\Temp\\ipykernel_9148\\3343009588.py:1: DeprecationWarning: `np.bool` is a deprecated alias for the builtin `bool`. To silence this warning, use `bool` by itself. Doing this will not modify any behavior and is safe. If you specifically wanted the numpy scalar type, use `np.bool_` here.\n",
      "Deprecated in NumPy 1.20; for more details and guidance: https://numpy.org/devdocs/release/1.20.0-notes.html#deprecations\n",
      "  mask = np.zeros_like(df_corr, dtype=np.bool)\n"
     ]
    },
    {
     "data": {
      "text/plain": [
       "<AxesSubplot:>"
      ]
     },
     "execution_count": 6,
     "metadata": {},
     "output_type": "execute_result"
    },
    {
     "data": {
      "image/png": "[encoded data removed]",
      "text/plain": [
       "<Figure size 432x288 with 2 Axes>"
      ]
     },
     "metadata": {
      "needs_background": "light"
     },
     "output_type": "display_data"
    }
   ],
   "source": [
    "mask = np.zeros_like(df_corr, dtype=np.bool)\n",
    "mask[np.triu_indices_from(mask)]=True\n",
    "\n",
    "sns.heatmap(df_corr, annot=True, fmt=\".2f\", mask = mask, cmap=\"coolwarm\")"
   ]
  },
  {
   "cell_type": "markdown",
   "id": "1b8cbffd",
   "metadata": {},
   "source": [
    "# 흡연하는 사람과 음주하는 사람들의 수는 얼마나 차이가 있을까요?"
   ]
  },
  {
   "cell_type": "code",
   "execution_count": 7,
   "id": "85f873b1",
   "metadata": {
    "ExecuteTime": {
     "end_time": "2022-11-14T06:25:05.367770Z",
     "start_time": "2022-11-14T06:25:05.354803Z"
    }
   },
   "outputs": [],
   "source": [
    "# 흡연 1(피우지 않는다), 2(이전에 피웠으나 끊었다), 3(현재도 피우고 있다)\n",
    "# 음주 0(마시지 않은다), 1(마신다)\n",
    "smoke = {1 : \"흡연안함\", 2: \"끊음\", 3: \"흡연중\"}\n",
    "drink = {0: \"안마심\", 1: \"마심\"}\n",
    "\n",
    "# df[\"흡연\"]\n",
    "# df[\"음주\"]"
   ]
  },
  {
   "cell_type": "code",
   "execution_count": 8,
   "id": "941d1795",
   "metadata": {
    "ExecuteTime": {
     "end_time": "2022-11-14T06:25:05.741181Z",
     "start_time": "2022-11-14T06:25:05.369761Z"
    }
   },
   "outputs": [],
   "source": [
    "df_copy = df\n",
    "df_copy.replace({\"음주여부\": drink}, inplace=True)\n",
    "df_copy.replace({\"흡연상태\": smoke}, inplace=True)"
   ]
  },
  {
   "cell_type": "code",
   "execution_count": 31,
   "id": "b432a134",
   "metadata": {
    "ExecuteTime": {
     "end_time": "2022-11-14T06:31:34.218529Z",
     "start_time": "2022-11-14T06:31:34.029036Z"
    },
    "scrolled": false
   },
   "outputs": [
    {
     "data": {
      "text/html": [
       "<div>\n",
       "<style scoped>\n",
       "    .dataframe tbody tr th:only-of-type {\n",
       "        vertical-align: middle;\n",
       "    }\n",
       "\n",
       "    .dataframe tbody tr th {\n",
       "        vertical-align: top;\n",
       "    }\n",
       "\n",
       "    .dataframe thead th {\n",
       "        text-align: right;\n",
       "    }\n",
       "</style>\n",
       "<table border=\"1\" class=\"dataframe\">\n",
       "  <thead>\n",
       "    <tr style=\"text-align: right;\">\n",
       "      <th>흡연상태</th>\n",
       "      <th>끊음</th>\n",
       "      <th>흡연안함</th>\n",
       "      <th>흡연중</th>\n",
       "    </tr>\n",
       "    <tr>\n",
       "      <th>음주여부</th>\n",
       "      <th></th>\n",
       "      <th></th>\n",
       "      <th></th>\n",
       "    </tr>\n",
       "  </thead>\n",
       "  <tbody>\n",
       "    <tr>\n",
       "      <th>마심</th>\n",
       "      <td>120779</td>\n",
       "      <td>213743</td>\n",
       "      <td>162166</td>\n",
       "    </tr>\n",
       "    <tr>\n",
       "      <th>안마심</th>\n",
       "      <td>55334</td>\n",
       "      <td>394503</td>\n",
       "      <td>52845</td>\n",
       "    </tr>\n",
       "  </tbody>\n",
       "</table>\n",
       "</div>"
      ],
      "text/plain": [
       "흡연상태      끊음    흡연안함     흡연중\n",
       "음주여부                        \n",
       "마심    120779  213743  162166\n",
       "안마심    55334  394503   52845"
      ]
     },
     "execution_count": 31,
     "metadata": {},
     "output_type": "execute_result"
    }
   ],
   "source": [
    "pd2 = pd.crosstab(df_copy.음주여부, df_copy.흡연상태)\n",
    "pd2"
   ]
  },
  {
   "cell_type": "code",
   "execution_count": 50,
   "id": "d1c4806e",
   "metadata": {
    "ExecuteTime": {
     "end_time": "2022-11-14T08:58:13.803649Z",
     "start_time": "2022-11-14T08:58:12.762268Z"
    }
   },
   "outputs": [
    {
     "data": {
      "text/plain": [
       "<AxesSubplot:xlabel='흡연상태', ylabel='count'>"
      ]
     },
     "execution_count": 50,
     "metadata": {},
     "output_type": "execute_result"
    },
    {
     "data": {
      "image/png": "[encoded data removed]",
      "text/plain": [
       "<Figure size 432x288 with 1 Axes>"
      ]
     },
     "metadata": {
      "needs_background": "light"
     },
     "output_type": "display_data"
    }
   ],
   "source": [
    "sns.countplot(data = pd2, x = df_copy.흡연상태, hue=df_copy.음주여부)"
   ]
  },
  {
   "cell_type": "markdown",
   "id": "0a0e00e1",
   "metadata": {},
   "source": [
    "# 체중이 120Kg 이상인 데이터를 찾아 \"총콜레스테롤\", \"감마지티피\" 값을 음주여부에 따라 산점도로 시각화해주세요!"
   ]
  },
  {
   "cell_type": "code",
   "execution_count": 64,
   "id": "a01d5935",
   "metadata": {
    "ExecuteTime": {
     "end_time": "2022-11-14T09:05:15.981664Z",
     "start_time": "2022-11-14T09:05:14.454565Z"
    }
   },
   "outputs": [
    {
     "data": {
      "text/plain": [
       "<seaborn.axisgrid.FacetGrid at 0x17e08fd5ee0>"
      ]
     },
     "execution_count": 64,
     "metadata": {},
     "output_type": "execute_result"
    },
    {
     "data": {
      "image/png": "[encoded data removed]",
      "text/plain": [
       "<Figure size 1144.12x360 with 3 Axes>"
      ]
     },
     "metadata": {
      "needs_background": "light"
     },
     "output_type": "display_data"
    }
   ],
   "source": [
    "# 체중이 120 Kg 이상인 데이터\n",
    "df_120 = df[df[\"체중(5Kg 단위)\"] >= 120]\n",
    "\n",
    "df_120[[\"총콜레스테롤\", \"감마지티피\"]]\n",
    "\n",
    "sns.lmplot(data=df_120, x=\"총콜레스테롤\", y=\"감마지티피\", hue=\"음주여부\", col=\"흡연상태\")"
   ]
  },
  {
   "cell_type": "markdown",
   "id": "9f82fdd0",
   "metadata": {},
   "source": [
    "# 연령대별로 시력은 얼마나 차이가 날까요? 연령대, 성별 좌우 평균 시력을 시각화 해주세요!\n",
    "- 시력은 0.1~2.5 사이의 값으로 표기하며 0.1 이하의 시력은 0.1, 실명은 9.9로 표기합니다.\n",
    "\n",
    "- 실명인 데이터를 평균에 포함하게 되면 시력에 대한 평균을 제대로 구하기 어렵습니다. 실명 데이터를 제외하고 연령대, 성별에 따른 평균 좌우 시력을 구해주세요!\n",
    "\n",
    "- 서브플롯으로 시각화하여 표현해 주고 matplotlib 에 대한 사용법은 다음의 영상도 함께 참고해 주세요! (https://www.youtube.com/watch?v=ZTRKojTLE8M)\n",
    "\n",
    "- 시각화 예시는 참고사항으로 스타일이나 폰트 구성이 달라도 연령대, 성별 좌우평균시력을 시각화 하면 됩니다."
   ]
  },
  {
   "cell_type": "code",
   "execution_count": 153,
   "id": "e3f5970a",
   "metadata": {
    "ExecuteTime": {
     "end_time": "2022-11-14T10:07:25.634411Z",
     "start_time": "2022-11-14T10:07:23.541983Z"
    }
   },
   "outputs": [
    {
     "data": {
      "text/plain": [
       "<AxesSubplot:xlabel='시력(우)', ylabel='연령대'>"
      ]
     },
     "execution_count": 153,
     "metadata": {},
     "output_type": "execute_result"
    },
    {
     "data": {
      "image/png": "[encoded data removed]",
      "text/plain": [
       "<Figure size 720x288 with 2 Axes>"
      ]
     },
     "metadata": {
      "needs_background": "light"
     },
     "output_type": "display_data"
    }
   ],
   "source": [
    "import matplotlib.pyplot as plt\n",
    "\n",
    "# 실명 데이터 제거하기\n",
    "eyesight = df_copy[\"시력(좌)\"] != 9.9 \n",
    "eye_df = df_copy[eyesight]\n",
    "\n",
    "fig, ax = plt.subplots(ncols=2, figsize=(10, 4))\n",
    "\n",
    "df_age2 = df_age.sort_values()\n",
    "\n",
    "sns.barplot(data=eye_df, x=\"시력(좌)\", y=df_age2, hue=\"성별코드\", ci = None, ax=ax[0])\n",
    "sns.barplot(data=eye_df, x=\"시력(우)\", y=df_age2, hue=\"성별코드\", ci = None, ax=ax[1])"
   ]
  }
 ],
 "metadata": {
  "kernelspec": {
   "display_name": "Python 3 (ipykernel)",
   "language": "python",
   "name": "python3"
  },
  "language_info": {
   "codemirror_mode": {
    "name": "ipython",
    "version": 3
   },
   "file_extension": ".py",
   "mimetype": "text/x-python",
   "name": "python",
   "nbconvert_exporter": "python",
   "pygments_lexer": "ipython3",
   "version": "3.9.12"
  },
  "toc": {
   "base_numbering": 1,
   "nav_menu": {},
   "number_sections": true,
   "sideBar": true,
   "skip_h1_title": false,
   "title_cell": "Table of Contents",
   "title_sidebar": "Contents",
   "toc_cell": false,
   "toc_position": {},
   "toc_section_display": true,
   "toc_window_display": false
  }
 },
 "nbformat": 4,
 "nbformat_minor": 5
}
