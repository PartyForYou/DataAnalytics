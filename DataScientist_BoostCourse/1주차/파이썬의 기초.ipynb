{
 "cells": [
  {
   "cell_type": "markdown",
   "id": "9a1c7d10",
   "metadata": {},
   "source": [
    "## Zen of Pyton"
   ]
  },
  {
   "cell_type": "code",
   "execution_count": null,
   "id": "cbfbfa91",
   "metadata": {
    "scrolled": true
   },
   "outputs": [],
   "source": [
    "import this"
   ]
  },
  {
   "cell_type": "markdown",
   "id": "b4eb6bb4",
   "metadata": {},
   "source": [
    "## boolean"
   ]
  },
  {
   "cell_type": "code",
   "execution_count": null,
   "id": "87989d33",
   "metadata": {},
   "outputs": [],
   "source": [
    "# 1. True를 출력해 보세요.\n",
    "True\n",
    "# 결과 : True\n",
    "\n",
    "# 2. False를 출력해 보세요.\n",
    "False\n",
    "# 결과 : False\n",
    "\n",
    "# 3. True는 1과 같음을 표현해 보세요. 파이썬에서는 같음을 비교할 때 == 연산을 사용합니다.\n",
    "False == 0\n",
    "# 결과 : True\n",
    "\n",
    "# 4. 하지만 True는 문자 1과 다릅니다. 1을 따옴표로 감싸면 문자열이 됩니다.\n",
    "True == \"1\"\n",
    "# 결과 : False\n",
    "\n",
    "# 5. 문자열 1과 True는 다릅니다.\n",
    "True != \"1\"\n",
    "# 결과 : True\n",
    "\n",
    "# 6. False도 마찬가지 입니다.\n",
    "False = \"0\"\n",
    "# 결과 : False\n",
    "\n",
    "# 7. False는 문자열 0과 다릅니다.\n",
    "False != \"0\"\n",
    "# 결과 : True\n",
    "\n",
    "# 8. and 연산으로 True 값 끼리 비교합니다.\n",
    "#     and는 모든 값이 True 일때만 True가 됩니다.\n",
    "True and True\n",
    "# 결과 : True\n",
    "\n",
    "# 9. and는 조건 중 하나라도 False라면 False가 됩니다.\n",
    "True and False\n",
    "# 결과 : False\n",
    "\n",
    "# 10. or은 하나만 True 라도 True가 됩니다.\n",
    "True or False\n",
    "# 결과 : True"
   ]
  },
  {
   "cell_type": "markdown",
   "id": "96f46e42",
   "metadata": {},
   "source": [
    "## Strings and List"
   ]
  },
  {
   "cell_type": "code",
   "execution_count": null,
   "id": "39fb1f2b",
   "metadata": {},
   "outputs": [],
   "source": [
    "# \"Hello World!\"를 출력해 봅니다.\n",
    "\"Hello World!\"\n",
    "# 결과 : 'Hello World!'\n",
    "\n",
    "\n",
    "# 주소 \"경기도 성남시 분당구\"를 출력해 봅니다.\n",
    "\"경기도 성남시 분당구\"\n",
    "# 결과 : '경기도 성남시 분당구'"
   ]
  },
  {
   "cell_type": "markdown",
   "id": "ef6707e6",
   "metadata": {},
   "source": [
    "## String"
   ]
  },
  {
   "cell_type": "code",
   "execution_count": null,
   "id": "d0f16b04",
   "metadata": {},
   "outputs": [],
   "source": [
    "# til 이라는 변수에 문자열을 담아봅니다.\n",
    "til = \"Today I Learned\"\n",
    "til\n",
    "# 결과 : 'Today I Learned'\n",
    "\n",
    "\n",
    "# 모두 소문자로 만들어 보세요.\n",
    "til.lower()\n",
    "# 결과 : 'today i learned'\n",
    "\n",
    "\n",
    "# 모두 대문자로 만들어 보세요.\n",
    "til.upper()\n",
    "# 결과 : 'TODAY I LEARNED'\n"
   ]
  },
  {
   "cell_type": "markdown",
   "id": "a5ec2520",
   "metadata": {},
   "source": [
    "## lists"
   ]
  },
  {
   "cell_type": "code",
   "execution_count": null,
   "id": "9401c256",
   "metadata": {},
   "outputs": [],
   "source": [
    "# 비어있는 리스트를 만듭니다. lang이라는 변수에 담습니다.\n",
    "lang = []\n",
    "lang\n",
    "# 결과 : []\n",
    "\n",
    "\n",
    "# python, java, c를 원소에 추가합니다.\n",
    "lang.append(\"python\")\n",
    "lang.append(\"java\")\n",
    "lang.append(\"c\")\n",
    "lang\n",
    "# 결과 : ['python', 'java', 'c']\n",
    "\n",
    "\n",
    "# lang이라는 변수에 담겨있는 언어명을 인덱싱을 통해 가져옵니다.\n",
    "lang[0]\n",
    "# 결과 : 'python'\n",
    "\n",
    "\n",
    "# 1번 인덱스를 가져옵니다.\n",
    "lang[1]\n",
    "# 결과 : 'java'\n",
    "\n",
    "\n",
    "# 마지막 인덱스를 가져옵니다.\n",
    "lang[-1]\n",
    "# 결과 : 'c'"
   ]
  },
  {
   "cell_type": "markdown",
   "id": "314006d4",
   "metadata": {},
   "source": [
    "## 제어문(조건문, 반복문)"
   ]
  },
  {
   "cell_type": "code",
   "execution_count": null,
   "id": "21c5e385",
   "metadata": {},
   "outputs": [],
   "source": [
    "# 반복문을 통해 리스트의 원소를 하나씩 출력합니다.\n",
    "for i in lang:\n",
    "    print(i)\n",
    "# 결과 : python\n",
    "#           java\n",
    "#           c\n",
    "\n",
    "\n",
    "# 위 코드에서 python일 때는 그대로 출력하고 나머지 텍스트는 \"기타\"라고 출력합니다.\n",
    "# 출력 결과가 아래의 순서로 나오도록 합니다.\n",
    "# python\n",
    "# 기타\n",
    "# 기타\n",
    "for i in lang:\n",
    "    if i == \"python\":\n",
    "        print(\"python\")\n",
    "    else:\n",
    "        print(\"기타\")\n",
    "# 결과 : python\n",
    "#           기타\n",
    "#           기타\n",
    "\n",
    "\n",
    "# 특정 횟수만큼 반복문을 실행하도록 합니다.\n",
    "for i in range(5):\n",
    "    print(i)\n",
    "# 결과 : 0\n",
    "#           1\n",
    "#           2\n",
    "#           3\n",
    "#           4\n",
    "\n",
    "\n",
    "# for문과 if문을 함께 사용해 봅니다.\n",
    "# 짝수일 때 python을 홀수일 때 java를 출력합니다.\n",
    "for i in range(1, 10):\n",
    "    if i % 2 == 0:\n",
    "        print(\"python\")\n",
    "    else:\n",
    "        print(\"java\")\n",
    "# 결과: java\n",
    "#          python\n",
    "#          java\n",
    "#          python\n",
    "#          java\n",
    "#          python\n",
    "#          java\n",
    "#          python\n",
    "#          java\n",
    "\n",
    "\n",
    "# enumerate를 사용하면 인덱스 번호와 원소를 같이 가져올 수 있습니다.\n",
    "for i, val in enumerate(lang):\n",
    "    print(i, val)\n",
    "#결과 : 0 pyhon\n",
    "#          1 java\n",
    "#          2 c"
   ]
  },
  {
   "cell_type": "markdown",
   "id": "a8e02911",
   "metadata": {},
   "source": [
    "## 문자열"
   ]
  },
  {
   "cell_type": "code",
   "execution_count": null,
   "id": "3a9763de",
   "metadata": {},
   "outputs": [],
   "source": [
    "# 주소를 address 변수에 담습니다.\n",
    "address = \" 경기도 성남시 분당구 불정로 6 NAVER 그린팩토리 16층\"\n",
    "address\n",
    "# 결과 : '경기도 성남시 분당구 불정로 6 NAVER 그린팩토리 16층\"\n",
    "\n",
    "\n",
    "# 앞뒤 공백을 제거합니다.\n",
    "# 데이터 전처리 시 주로 사용합니다.\n",
    "address = address.strip()\n",
    "address\n",
    "# 결과 : '경기도 성남시 분당구 불정로 6 NAVER 그린팩토리 16층'\n",
    "\n",
    "\n",
    "# 문자열의 길이\n",
    "len(address)\n",
    "# 결과 : 33\n",
    "\n",
    "\n",
    "# 공백으로 문자열 분리\n",
    "address_list = address.split()\n",
    "address_list\n",
    "# 결과 : ['경기도', '성남시', '분당구', '불정로', '6', 'NAVER', '그린팩토리', '16층']\n",
    "\n",
    "\n",
    "# 리스트 길이\n",
    "len(address_list)\n",
    "# 결과 : 8"
   ]
  },
  {
   "cell_type": "markdown",
   "id": "0ebe14c7",
   "metadata": {},
   "source": [
    "## 슬라이싱, startswith, in을 통해 문자열에 경기가 있는지 확인하기"
   ]
  },
  {
   "cell_type": "code",
   "execution_count": null,
   "id": "a300a1b4",
   "metadata": {},
   "outputs": [],
   "source": [
    "# 슬라이싱으로 문자 가져오기\n",
    "address:[:2]\n",
    "# 결과 : '경기'\n",
    "\n",
    "\n",
    "# startswith를 사용하면 특정 문자가 포함되는지 여부를 확인할 수 있습니다.\n",
    "address.startswith(\"경기\")\n",
    "# 결과 : True\n",
    "\n",
    "\n",
    "\n",
    "# in을 사용하게 되면 특정 문자열을 포함하고 있는지 여부를 확인할 수 있습니다.\n",
    "\"경기\" in address\n",
    "# 결과 : True"
   ]
  },
  {
   "cell_type": "markdown",
   "id": "553d4673",
   "metadata": {},
   "source": [
    "## 리스트"
   ]
  },
  {
   "cell_type": "code",
   "execution_count": null,
   "id": "3774a328",
   "metadata": {},
   "outputs": [],
   "source": [
    "# 인덱싱으로 리스트의 원소 가져오기 - 주소에서 구를 가져와 gu라는 변수에 담아보세요.\n",
    "gu = address_list[2]\n",
    "gu\n",
    "# 결과 : '분당구'\n",
    "\n",
    "\n",
    "# 인덱싱으로 리스트의 원소 가져오기 - 주소에서 도로명을 가져와 street라는 변수에 담아보세요\n",
    "street = address_list[3]\n",
    "street\n",
    "# 결과 : '불정로'\n",
    "\n",
    "\n",
    "# 리스트의 마지막을 가져옵니다.\n",
    "address_list[-1]\n",
    "# 결과 : '16층'\n",
    "\n",
    "\n",
    "# \"  \".join(리스트)를 사용하면 리스트를 공백 문자열을 연결할 수 있습니다.\n",
    "# 리스트로 분리된 문자열을 다시 연결합니다.\n",
    "\" \".join(address_list)\n",
    "# 결과 : '경기도 성남시 분당구 불정로 6 NAVER 그린팩토리 16층'\n",
    "\n",
    "\n",
    "# in을 사용하게 되면 리스트에 해당 데이터를 포함하고 있는지 여부를 확인할 수 있습니다.\n",
    "# \"경기\"가 리스트에 포함되는지를 봅니다.\n",
    "\"경기\" in address_list\n",
    "# 결과 : False --> \"경기도\" 처럼 완전하게 적어야 True가 나옵니다.\n",
    "\n",
    "\n",
    "\n",
    "# in을 사용하게 되면 리스트에 해당 데이터를 포함하고 있는지 여부를 확인할 수 있습니다.\n",
    "# \"분당구\"가 리스트에 포함되는지를 봅니다.\n",
    "\"분당구\" in address_list\n",
    "# 결과 : True"
   ]
  }
 ],
 "metadata": {
  "kernelspec": {
   "display_name": "Python 3 (ipykernel)",
   "language": "python",
   "name": "python3"
  },
  "language_info": {
   "codemirror_mode": {
    "name": "ipython",
    "version": 3
   },
   "file_extension": ".py",
   "mimetype": "text/x-python",
   "name": "python",
   "nbconvert_exporter": "python",
   "pygments_lexer": "ipython3",
   "version": "3.9.13"
  }
 },
 "nbformat": 4,
 "nbformat_minor": 5
}
