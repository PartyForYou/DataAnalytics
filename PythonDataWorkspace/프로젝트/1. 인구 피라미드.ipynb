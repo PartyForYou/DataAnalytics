{
 "cells": [
  {
   "cell_type": "markdown",
   "id": "a3ccd5e6",
   "metadata": {},
   "source": [
    "# 1. 인구 피라미드"
   ]
  },
  {
   "cell_type": "markdown",
   "id": "571cf467",
   "metadata": {},
   "source": [
    "## 남자 데이터 정의"
   ]
  },
  {
   "cell_type": "code",
   "execution_count": 37,
   "id": "5040f0fb",
   "metadata": {
    "scrolled": true
   },
   "outputs": [
    {
     "name": "stderr",
     "output_type": "stream",
     "text": [
      "C:\\ProgramData\\Anaconda3\\lib\\site-packages\\openpyxl\\styles\\stylesheet.py:226: UserWarning: Workbook contains no default style, apply openpyxl's default\n",
      "  warn(\"Workbook contains no default style, apply openpyxl's default\")\n"
     ]
    },
    {
     "data": {
      "text/html": [
       "<div>\n",
       "<style scoped>\n",
       "    .dataframe tbody tr th:only-of-type {\n",
       "        vertical-align: middle;\n",
       "    }\n",
       "\n",
       "    .dataframe tbody tr th {\n",
       "        vertical-align: top;\n",
       "    }\n",
       "\n",
       "    .dataframe thead th {\n",
       "        text-align: right;\n",
       "    }\n",
       "</style>\n",
       "<table border=\"1\" class=\"dataframe\">\n",
       "  <thead>\n",
       "    <tr style=\"text-align: right;\">\n",
       "      <th></th>\n",
       "      <th>0~4세</th>\n",
       "      <th>5~9세</th>\n",
       "      <th>10~14세</th>\n",
       "      <th>15~19세</th>\n",
       "      <th>20~24세</th>\n",
       "      <th>25~29세</th>\n",
       "      <th>30~34세</th>\n",
       "      <th>35~39세</th>\n",
       "      <th>40~44세</th>\n",
       "      <th>45~49세</th>\n",
       "      <th>...</th>\n",
       "      <th>55~59세</th>\n",
       "      <th>60~64세</th>\n",
       "      <th>65~69세</th>\n",
       "      <th>70~74세</th>\n",
       "      <th>75~79세</th>\n",
       "      <th>80~84세</th>\n",
       "      <th>85~89세</th>\n",
       "      <th>90~94세</th>\n",
       "      <th>95~99세</th>\n",
       "      <th>100세 이상</th>\n",
       "    </tr>\n",
       "    <tr>\n",
       "      <th>행정기관</th>\n",
       "      <th></th>\n",
       "      <th></th>\n",
       "      <th></th>\n",
       "      <th></th>\n",
       "      <th></th>\n",
       "      <th></th>\n",
       "      <th></th>\n",
       "      <th></th>\n",
       "      <th></th>\n",
       "      <th></th>\n",
       "      <th></th>\n",
       "      <th></th>\n",
       "      <th></th>\n",
       "      <th></th>\n",
       "      <th></th>\n",
       "      <th></th>\n",
       "      <th></th>\n",
       "      <th></th>\n",
       "      <th></th>\n",
       "      <th></th>\n",
       "      <th></th>\n",
       "    </tr>\n",
       "  </thead>\n",
       "  <tbody>\n",
       "    <tr>\n",
       "      <th>전국</th>\n",
       "      <td>1,196,123</td>\n",
       "      <td>1,536,281</td>\n",
       "      <td>1,843,571</td>\n",
       "      <td>1,755,200</td>\n",
       "      <td>1,697,808</td>\n",
       "      <td>2,073,113</td>\n",
       "      <td>2,062,736</td>\n",
       "      <td>2,346,808</td>\n",
       "      <td>2,124,615</td>\n",
       "      <td>2,228,065</td>\n",
       "      <td>...</td>\n",
       "      <td>1,224,251</td>\n",
       "      <td>942,531</td>\n",
       "      <td>869,768</td>\n",
       "      <td>570,738</td>\n",
       "      <td>298,161</td>\n",
       "      <td>144,120</td>\n",
       "      <td>60,035</td>\n",
       "      <td>13,960</td>\n",
       "      <td>2,642</td>\n",
       "      <td>234</td>\n",
       "    </tr>\n",
       "    <tr>\n",
       "      <th>서울특별시</th>\n",
       "      <td>226,970</td>\n",
       "      <td>269,640</td>\n",
       "      <td>333,646</td>\n",
       "      <td>341,996</td>\n",
       "      <td>358,754</td>\n",
       "      <td>498,503</td>\n",
       "      <td>485,539</td>\n",
       "      <td>499,063</td>\n",
       "      <td>413,341</td>\n",
       "      <td>434,317</td>\n",
       "      <td>...</td>\n",
       "      <td>268,147</td>\n",
       "      <td>212,479</td>\n",
       "      <td>177,753</td>\n",
       "      <td>99,185</td>\n",
       "      <td>48,104</td>\n",
       "      <td>22,819</td>\n",
       "      <td>10,302</td>\n",
       "      <td>2,500</td>\n",
       "      <td>542</td>\n",
       "      <td>49</td>\n",
       "    </tr>\n",
       "    <tr>\n",
       "      <th>부산광역시</th>\n",
       "      <td>68,423</td>\n",
       "      <td>93,372</td>\n",
       "      <td>124,246</td>\n",
       "      <td>129,937</td>\n",
       "      <td>133,482</td>\n",
       "      <td>158,022</td>\n",
       "      <td>135,568</td>\n",
       "      <td>150,019</td>\n",
       "      <td>141,293</td>\n",
       "      <td>167,527</td>\n",
       "      <td>...</td>\n",
       "      <td>111,791</td>\n",
       "      <td>82,391</td>\n",
       "      <td>69,673</td>\n",
       "      <td>40,367</td>\n",
       "      <td>19,740</td>\n",
       "      <td>8,398</td>\n",
       "      <td>3,032</td>\n",
       "      <td>621</td>\n",
       "      <td>111</td>\n",
       "      <td>5</td>\n",
       "    </tr>\n",
       "  </tbody>\n",
       "</table>\n",
       "<p>3 rows × 21 columns</p>\n",
       "</div>"
      ],
      "text/plain": [
       "              0~4세       5~9세     10~14세     15~19세     20~24세     25~29세  \\\n",
       "행정기관                                                                        \n",
       "전국       1,196,123  1,536,281  1,843,571  1,755,200  1,697,808  2,073,113   \n",
       "서울특별시      226,970    269,640    333,646    341,996    358,754    498,503   \n",
       "부산광역시       68,423     93,372    124,246    129,937    133,482    158,022   \n",
       "\n",
       "            30~34세     35~39세     40~44세     45~49세  ...     55~59세   60~64세  \\\n",
       "행정기관                                                 ...                       \n",
       "전국       2,062,736  2,346,808  2,124,615  2,228,065  ...  1,224,251  942,531   \n",
       "서울특별시      485,539    499,063    413,341    434,317  ...    268,147  212,479   \n",
       "부산광역시      135,568    150,019    141,293    167,527  ...    111,791   82,391   \n",
       "\n",
       "          65~69세   70~74세   75~79세   80~84세  85~89세  90~94세 95~99세 100세 이상  \n",
       "행정기관                                                                        \n",
       "전국       869,768  570,738  298,161  144,120  60,035  13,960  2,642     234  \n",
       "서울특별시    177,753   99,185   48,104   22,819  10,302   2,500    542      49  \n",
       "부산광역시     69,673   40,367   19,740    8,398   3,032     621    111       5  \n",
       "\n",
       "[3 rows x 21 columns]"
      ]
     },
     "execution_count": 37,
     "metadata": {},
     "output_type": "execute_result"
    }
   ],
   "source": [
    "import pandas as  pd\n",
    "df_m = pd.read_excel('200801_200801_연령별인구현황_월간.xlsx', skiprows=3, index_col='행정기관', usecols='B, E:Y')\n",
    "df_m.head(3)"
   ]
  },
  {
   "cell_type": "code",
   "execution_count": 39,
   "id": "37bb6897",
   "metadata": {},
   "outputs": [],
   "source": [
    "df_m.iloc[0] = df_m.iloc[0].str.replace(',', '')"
   ]
  },
  {
   "cell_type": "code",
   "execution_count": 41,
   "id": "0088f613",
   "metadata": {},
   "outputs": [],
   "source": [
    "df_m.iloc[0] = df_m.iloc[0].fillna(0)"
   ]
  },
  {
   "cell_type": "code",
   "execution_count": 43,
   "id": "a4124549",
   "metadata": {},
   "outputs": [],
   "source": [
    "df_m.iloc[0] = df_m.iloc[0].astype(int)"
   ]
  },
  {
   "cell_type": "code",
   "execution_count": 44,
   "id": "bd3827ff",
   "metadata": {},
   "outputs": [
    {
     "data": {
      "text/plain": [
       "0~4세       1196123\n",
       "5~9세       1536281\n",
       "10~14세     1843571\n",
       "15~19세     1755200\n",
       "20~24세     1697808\n",
       "25~29세     2073113\n",
       "30~34세     2062736\n",
       "35~39세     2346808\n",
       "40~44세     2124615\n",
       "45~49세     2228065\n",
       "50~54세     1715308\n",
       "55~59세     1224251\n",
       "60~64세      942531\n",
       "65~69세      869768\n",
       "70~74세      570738\n",
       "75~79세      298161\n",
       "80~84세      144120\n",
       "85~89세       60035\n",
       "90~94세       13960\n",
       "95~99세        2642\n",
       "100세 이상        0.0\n",
       "Name: 전국  , dtype: object"
      ]
     },
     "execution_count": 44,
     "metadata": {},
     "output_type": "execute_result"
    }
   ],
   "source": [
    "df_m.iloc[0]"
   ]
  },
  {
   "cell_type": "code",
   "execution_count": 45,
   "id": "59608778",
   "metadata": {},
   "outputs": [
    {
     "name": "stderr",
     "output_type": "stream",
     "text": [
      "C:\\ProgramData\\Anaconda3\\lib\\site-packages\\openpyxl\\styles\\stylesheet.py:226: UserWarning: Workbook contains no default style, apply openpyxl's default\n",
      "  warn(\"Workbook contains no default style, apply openpyxl's default\")\n"
     ]
    },
    {
     "data": {
      "text/html": [
       "<div>\n",
       "<style scoped>\n",
       "    .dataframe tbody tr th:only-of-type {\n",
       "        vertical-align: middle;\n",
       "    }\n",
       "\n",
       "    .dataframe tbody tr th {\n",
       "        vertical-align: top;\n",
       "    }\n",
       "\n",
       "    .dataframe thead th {\n",
       "        text-align: right;\n",
       "    }\n",
       "</style>\n",
       "<table border=\"1\" class=\"dataframe\">\n",
       "  <thead>\n",
       "    <tr style=\"text-align: right;\">\n",
       "      <th></th>\n",
       "      <th>0~4세.1</th>\n",
       "      <th>5~9세.1</th>\n",
       "      <th>10~14세.1</th>\n",
       "      <th>15~19세.1</th>\n",
       "      <th>20~24세.1</th>\n",
       "      <th>25~29세.1</th>\n",
       "      <th>30~34세.1</th>\n",
       "      <th>35~39세.1</th>\n",
       "      <th>40~44세.1</th>\n",
       "      <th>45~49세.1</th>\n",
       "      <th>...</th>\n",
       "      <th>55~59세.1</th>\n",
       "      <th>60~64세.1</th>\n",
       "      <th>65~69세.1</th>\n",
       "      <th>70~74세.1</th>\n",
       "      <th>75~79세.1</th>\n",
       "      <th>80~84세.1</th>\n",
       "      <th>85~89세.1</th>\n",
       "      <th>90~94세.1</th>\n",
       "      <th>95~99세.1</th>\n",
       "      <th>100세 이상.1</th>\n",
       "    </tr>\n",
       "    <tr>\n",
       "      <th>행정기관</th>\n",
       "      <th></th>\n",
       "      <th></th>\n",
       "      <th></th>\n",
       "      <th></th>\n",
       "      <th></th>\n",
       "      <th></th>\n",
       "      <th></th>\n",
       "      <th></th>\n",
       "      <th></th>\n",
       "      <th></th>\n",
       "      <th></th>\n",
       "      <th></th>\n",
       "      <th></th>\n",
       "      <th></th>\n",
       "      <th></th>\n",
       "      <th></th>\n",
       "      <th></th>\n",
       "      <th></th>\n",
       "      <th></th>\n",
       "      <th></th>\n",
       "      <th></th>\n",
       "    </tr>\n",
       "  </thead>\n",
       "  <tbody>\n",
       "    <tr>\n",
       "      <th>전국</th>\n",
       "      <td>1,114,835</td>\n",
       "      <td>1,403,793</td>\n",
       "      <td>1,641,682</td>\n",
       "      <td>1,562,080</td>\n",
       "      <td>1,573,660</td>\n",
       "      <td>1,972,040</td>\n",
       "      <td>1,996,299</td>\n",
       "      <td>2,256,674</td>\n",
       "      <td>2,032,713</td>\n",
       "      <td>2,162,764</td>\n",
       "      <td>...</td>\n",
       "      <td>1,237,460</td>\n",
       "      <td>1,017,598</td>\n",
       "      <td>1,036,280</td>\n",
       "      <td>800,957</td>\n",
       "      <td>550,150</td>\n",
       "      <td>319,435</td>\n",
       "      <td>156,821</td>\n",
       "      <td>51,943</td>\n",
       "      <td>11,293</td>\n",
       "      <td>1,945</td>\n",
       "    </tr>\n",
       "    <tr>\n",
       "      <th>서울특별시</th>\n",
       "      <td>213,544</td>\n",
       "      <td>249,752</td>\n",
       "      <td>298,531</td>\n",
       "      <td>309,643</td>\n",
       "      <td>362,744</td>\n",
       "      <td>506,536</td>\n",
       "      <td>465,358</td>\n",
       "      <td>476,819</td>\n",
       "      <td>411,867</td>\n",
       "      <td>456,852</td>\n",
       "      <td>...</td>\n",
       "      <td>281,337</td>\n",
       "      <td>223,818</td>\n",
       "      <td>187,732</td>\n",
       "      <td>127,573</td>\n",
       "      <td>85,017</td>\n",
       "      <td>51,940</td>\n",
       "      <td>26,206</td>\n",
       "      <td>8,978</td>\n",
       "      <td>1,864</td>\n",
       "      <td>352</td>\n",
       "    </tr>\n",
       "    <tr>\n",
       "      <th>부산광역시</th>\n",
       "      <td>63,887</td>\n",
       "      <td>83,565</td>\n",
       "      <td>106,573</td>\n",
       "      <td>112,171</td>\n",
       "      <td>122,065</td>\n",
       "      <td>150,137</td>\n",
       "      <td>131,398</td>\n",
       "      <td>149,697</td>\n",
       "      <td>145,861</td>\n",
       "      <td>177,882</td>\n",
       "      <td>...</td>\n",
       "      <td>114,270</td>\n",
       "      <td>85,198</td>\n",
       "      <td>78,483</td>\n",
       "      <td>55,435</td>\n",
       "      <td>37,589</td>\n",
       "      <td>21,810</td>\n",
       "      <td>9,165</td>\n",
       "      <td>2,779</td>\n",
       "      <td>562</td>\n",
       "      <td>102</td>\n",
       "    </tr>\n",
       "  </tbody>\n",
       "</table>\n",
       "<p>3 rows × 21 columns</p>\n",
       "</div>"
      ],
      "text/plain": [
       "            0~4세.1     5~9세.1   10~14세.1   15~19세.1   20~24세.1   25~29세.1  \\\n",
       "행정기관                                                                        \n",
       "전국       1,114,835  1,403,793  1,641,682  1,562,080  1,573,660  1,972,040   \n",
       "서울특별시      213,544    249,752    298,531    309,643    362,744    506,536   \n",
       "부산광역시       63,887     83,565    106,573    112,171    122,065    150,137   \n",
       "\n",
       "          30~34세.1   35~39세.1   40~44세.1   45~49세.1  ...   55~59세.1  \\\n",
       "행정기관                                                 ...              \n",
       "전국       1,996,299  2,256,674  2,032,713  2,162,764  ...  1,237,460   \n",
       "서울특별시      465,358    476,819    411,867    456,852  ...    281,337   \n",
       "부산광역시      131,398    149,697    145,861    177,882  ...    114,270   \n",
       "\n",
       "          60~64세.1   65~69세.1 70~74세.1 75~79세.1 80~84세.1 85~89세.1 90~94세.1  \\\n",
       "행정기관                                                                         \n",
       "전국       1,017,598  1,036,280  800,957  550,150  319,435  156,821   51,943   \n",
       "서울특별시      223,818    187,732  127,573   85,017   51,940   26,206    8,978   \n",
       "부산광역시       85,198     78,483   55,435   37,589   21,810    9,165    2,779   \n",
       "\n",
       "        95~99세.1 100세 이상.1  \n",
       "행정기관                        \n",
       "전국        11,293     1,945  \n",
       "서울특별시      1,864       352  \n",
       "부산광역시        562       102  \n",
       "\n",
       "[3 rows x 21 columns]"
      ]
     },
     "execution_count": 45,
     "metadata": {},
     "output_type": "execute_result"
    }
   ],
   "source": [
    "import pandas as  pd\n",
    "df_w = pd.read_excel('200801_200801_연령별인구현황_월간.xlsx', skiprows=3, index_col='행정기관', usecols='B, AB:AV')\n",
    "df_w.head(3)"
   ]
  },
  {
   "cell_type": "code",
   "execution_count": 47,
   "id": "47a0fa0e",
   "metadata": {},
   "outputs": [],
   "source": [
    "df_w.iloc[0] = df_w.iloc[0].str.replace(',', '').astype(int)"
   ]
  },
  {
   "cell_type": "code",
   "execution_count": 48,
   "id": "5f966be9",
   "metadata": {},
   "outputs": [
    {
     "data": {
      "text/plain": [
       "0~4세.1       1114835\n",
       "5~9세.1       1403793\n",
       "10~14세.1     1641682\n",
       "15~19세.1     1562080\n",
       "20~24세.1     1573660\n",
       "25~29세.1     1972040\n",
       "30~34세.1     1996299\n",
       "35~39세.1     2256674\n",
       "40~44세.1     2032713\n",
       "45~49세.1     2162764\n",
       "50~54세.1     1691242\n",
       "55~59세.1     1237460\n",
       "60~64세.1     1017598\n",
       "65~69세.1     1036280\n",
       "70~74세.1      800957\n",
       "75~79세.1      550150\n",
       "80~84세.1      319435\n",
       "85~89세.1      156821\n",
       "90~94세.1       51943\n",
       "95~99세.1       11293\n",
       "100세 이상.1       1945\n",
       "Name: 전국  , dtype: object"
      ]
     },
     "execution_count": 48,
     "metadata": {},
     "output_type": "execute_result"
    }
   ],
   "source": [
    "df_w.iloc[0]"
   ]
  },
  {
   "cell_type": "code",
   "execution_count": 49,
   "id": "36dd819f",
   "metadata": {},
   "outputs": [],
   "source": [
    "df_w.columns = df_m.columns"
   ]
  },
  {
   "cell_type": "markdown",
   "id": "6d840dc2",
   "metadata": {},
   "source": [
    "## 데이터 시각화"
   ]
  },
  {
   "cell_type": "code",
   "execution_count": 50,
   "id": "4c88137c",
   "metadata": {},
   "outputs": [],
   "source": [
    "import pandas as pd\n",
    "import matplotlib.pyplot as plt\n",
    "import matplotlib\n",
    "matplotlib.rcParams['font.family'] = 'Malgun Gothic'  # Windows\n",
    "matplotlib.rcParams['font.size'] = 15  # 글자 크기\n",
    "matplotlib.rcParams['axes.unicode_minus'] = False  # 한글 폰트 사용 시, 마이너스 글자가 깨지는 현상을 해결"
   ]
  },
  {
   "cell_type": "code",
   "execution_count": 55,
   "id": "ec4eea4f",
   "metadata": {},
   "outputs": [
    {
     "data": {
      "image/png": "[encoded data removed]",
      "text/plain": [
       "<Figure size 720x504 with 1 Axes>"
      ]
     },
     "metadata": {
      "needs_background": "light"
     },
     "output_type": "display_data"
    }
   ],
   "source": [
    "plt.figure(figsize=(10, 7))\n",
    "plt.barh(df_m.columns, -df_m.iloc[0] // 1000)  # 단위 : 천 명\n",
    "plt.barh(df_w.columns, df_w.iloc[0] // 1000)\n",
    "plt.title('2008 대한민국 인구 피라미드')\n",
    "plt.savefig('2008_인구피라미드.png', dpi=100)\n",
    "plt.show()"
   ]
  },
  {
   "cell_type": "code",
   "execution_count": null,
   "id": "332ab748",
   "metadata": {},
   "outputs": [],
   "source": []
  }
 ],
 "metadata": {
  "kernelspec": {
   "display_name": "Python 3 (ipykernel)",
   "language": "python",
   "name": "python3"
  },
  "language_info": {
   "codemirror_mode": {
    "name": "ipython",
    "version": 3
   },
   "file_extension": ".py",
   "mimetype": "text/x-python",
   "name": "python",
   "nbconvert_exporter": "python",
   "pygments_lexer": "ipython3",
   "version": "3.9.12"
  }
 },
 "nbformat": 4,
 "nbformat_minor": 5
}
