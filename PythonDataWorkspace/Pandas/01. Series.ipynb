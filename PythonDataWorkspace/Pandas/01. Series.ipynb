{
 "cells": [
  {
   "cell_type": "markdown",
   "id": "e5c2ddaa",
   "metadata": {},
   "source": [
    "# Pandas\n",
    "파이썬에서 사용하는 데이터 분석 라이브러리"
   ]
  },
  {
   "cell_type": "code",
   "execution_count": 2,
   "id": "a6ac1822",
   "metadata": {},
   "outputs": [],
   "source": [
    "import pandas as pd"
   ]
  },
  {
   "cell_type": "markdown",
   "id": "295eec34",
   "metadata": {},
   "source": [
    "# 1. Series\n",
    "1차원 데이터 (정수, 실수, 문자열 등)"
   ]
  },
  {
   "cell_type": "markdown",
   "id": "7314093f",
   "metadata": {},
   "source": [
    "## Series 객체 생성\n",
    "예 ) 1월부터 4월까지 평균 온도 데이터 (-20, -10, 10, 20)"
   ]
  },
  {
   "cell_type": "code",
   "execution_count": 4,
   "id": "dd46d2e4",
   "metadata": {},
   "outputs": [
    {
     "data": {
      "text/plain": [
       "0   -20\n",
       "1   -10\n",
       "2    10\n",
       "3    20\n",
       "dtype: int64"
      ]
     },
     "execution_count": 4,
     "metadata": {},
     "output_type": "execute_result"
    }
   ],
   "source": [
    "temp = pd.Series([-20, -10, 10, 20])\n",
    "temp"
   ]
  },
  {
   "cell_type": "code",
   "execution_count": 5,
   "id": "832ad7e3",
   "metadata": {},
   "outputs": [
    {
     "data": {
      "text/plain": [
       "-20"
      ]
     },
     "execution_count": 5,
     "metadata": {},
     "output_type": "execute_result"
    }
   ],
   "source": [
    "temp[0]  # 1월 온도"
   ]
  },
  {
   "cell_type": "code",
   "execution_count": 6,
   "id": "0ec68c20",
   "metadata": {},
   "outputs": [
    {
     "data": {
      "text/plain": [
       "10"
      ]
     },
     "execution_count": 6,
     "metadata": {},
     "output_type": "execute_result"
    }
   ],
   "source": [
    "temp[2]  # 3월 온도"
   ]
  },
  {
   "cell_type": "markdown",
   "id": "b33e8156",
   "metadata": {},
   "source": [
    "# Series 객체 생성 (Index 지정)"
   ]
  },
  {
   "cell_type": "code",
   "execution_count": 7,
   "id": "3d3a450d",
   "metadata": {},
   "outputs": [
    {
     "data": {
      "text/plain": [
       "Jan   -20\n",
       "Feb   -10\n",
       "Mar    10\n",
       "Apr    20\n",
       "dtype: int64"
      ]
     },
     "execution_count": 7,
     "metadata": {},
     "output_type": "execute_result"
    }
   ],
   "source": [
    "temp = pd.Series([-20, -10, 10, 20], index=['Jan', 'Feb', 'Mar', 'Apr'])\n",
    "temp"
   ]
  },
  {
   "cell_type": "code",
   "execution_count": 8,
   "id": "3f835371",
   "metadata": {},
   "outputs": [
    {
     "data": {
      "text/plain": [
       "-20"
      ]
     },
     "execution_count": 8,
     "metadata": {},
     "output_type": "execute_result"
    }
   ],
   "source": [
    "temp['Jan']  # index Jan[1월] 에 해당하는 데이터 출력"
   ]
  },
  {
   "cell_type": "code",
   "execution_count": 9,
   "id": "1e191b9c",
   "metadata": {},
   "outputs": [
    {
     "data": {
      "text/plain": [
       "20"
      ]
     },
     "execution_count": 9,
     "metadata": {},
     "output_type": "execute_result"
    }
   ],
   "source": [
    "temp['Apr']  # index Apr[4월] 에 해당하는 데이터 출력"
   ]
  },
  {
   "cell_type": "code",
   "execution_count": 11,
   "id": "00ed462d",
   "metadata": {},
   "outputs": [],
   "source": [
    "# temp['Jun']  # 존재하지 않는 index 데이터 접근 시도시 에러"
   ]
  }
 ],
 "metadata": {
  "kernelspec": {
   "display_name": "Python 3 (ipykernel)",
   "language": "python",
   "name": "python3"
  },
  "language_info": {
   "codemirror_mode": {
    "name": "ipython",
    "version": 3
   },
   "file_extension": ".py",
   "mimetype": "text/x-python",
   "name": "python",
   "nbconvert_exporter": "python",
   "pygments_lexer": "ipython3",
   "version": "3.9.12"
  }
 },
 "nbformat": 4,
 "nbformat_minor": 5
}
